{
 "cells": [
  {
   "cell_type": "code",
   "execution_count": 1,
   "metadata": {},
   "outputs": [],
   "source": [
    "import re\n",
    "import string"
   ]
  },
  {
   "cell_type": "markdown",
   "metadata": {},
   "source": [
    "# Defining two string"
   ]
  },
  {
   "cell_type": "code",
   "execution_count": 2,
   "metadata": {},
   "outputs": [],
   "source": [
    "text1 = \"\"\" मलाई स्याउ खान मन छ । एप्पल स्वास्थ्य को लागी धेरै राम्रो छ\"\"\"\n",
    "text2 = \"\"\"मलाई धेरै नै स्याउ खान मन पर्छ । एप्पल स्वास्थ्य को लागी धेरै राम्रो छ\"\"\""
   ]
  },
  {
   "cell_type": "code",
   "execution_count": 3,
   "metadata": {},
   "outputs": [],
   "source": [
    "exclude = set(string.punctuation)"
   ]
  },
  {
   "cell_type": "markdown",
   "metadata": {},
   "source": [
    "# Cleaning the text"
   ]
  },
  {
   "cell_type": "code",
   "execution_count": 4,
   "metadata": {},
   "outputs": [],
   "source": [
    "def pre_pro(text):\n",
    "   \n",
    "    text = text.lower()\n",
    "    text = re.sub( '\\s+', ' ', text ).strip()\n",
    "    text = re.sub( '&\\w*;', ' ', text ) #eg: &nbsp;\n",
    "    text = re.sub( '#\\d+;', ' ', text ) #eg: #1223;\n",
    "    text = re.sub( '&#\\d+;', ' ', text ) #eg: &#fffee;\n",
    "    text = re.sub( '<\\w.*>', ' ', text ) #eg: <html>\n",
    "    text = ''.join(ch for ch in text if ch not in exclude)\n",
    "    return text"
   ]
  },
  {
   "cell_type": "markdown",
   "metadata": {},
   "source": [
    "# calculate the distance between two text\n",
    "    Jaccard Similairty: J(a,b) = |A ∩ B|/|A ∪ B|"
   ]
  },
  {
   "cell_type": "code",
   "execution_count": 5,
   "metadata": {},
   "outputs": [],
   "source": [
    "def jaccard(set_a, set_b):\n",
    "    intersection = set_a & set_b\n",
    "    union = set_a | set_b\n",
    "    if len(union) > 0:\n",
    "        return len(intersection) / len(union)\n",
    "    else:\n",
    "        return 0"
   ]
  },
  {
   "cell_type": "markdown",
   "metadata": {},
   "source": [
    "# Function for similarity check for each word"
   ]
  },
  {
   "cell_type": "code",
   "execution_count": 6,
   "metadata": {},
   "outputs": [],
   "source": [
    "def text_similarity(text1,text2):\n",
    "    text1_set = set([x for x in text1.lower().split()])\n",
    "    text2_set = set([x for x in text2.lower().split()])\n",
    "    jaccard_similarity = jaccard(text1_set, text2_set)\n",
    "    return int(jaccard_similarity*100)"
   ]
  },
  {
   "cell_type": "markdown",
   "metadata": {},
   "source": [
    "# Calling the function"
   ]
  },
  {
   "cell_type": "code",
   "execution_count": 7,
   "metadata": {},
   "outputs": [],
   "source": [
    "sim_score = text_similarity(text1,text2)"
   ]
  },
  {
   "cell_type": "code",
   "execution_count": 8,
   "metadata": {},
   "outputs": [
    {
     "name": "stdout",
     "output_type": "stream",
     "text": [
      "The two documents are 85% similar\n"
     ]
    }
   ],
   "source": [
    "print (\"The two documents are \"+str(sim_score)+\"% similar\")"
   ]
  }
 ],
 "metadata": {
  "kernelspec": {
   "display_name": "Python 3",
   "language": "python",
   "name": "python3"
  },
  "language_info": {
   "codemirror_mode": {
    "name": "ipython",
    "version": 3
   },
   "file_extension": ".py",
   "mimetype": "text/x-python",
   "name": "python",
   "nbconvert_exporter": "python",
   "pygments_lexer": "ipython3",
   "version": "3.7.6"
  }
 },
 "nbformat": 4,
 "nbformat_minor": 4
}
